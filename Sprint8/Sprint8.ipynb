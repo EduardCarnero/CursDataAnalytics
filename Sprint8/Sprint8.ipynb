{
 "cells": [
  {
   "cell_type": "markdown",
   "metadata": {},
   "source": [
    "#### **NIVEL 1**"
   ]
  },
  {
   "cell_type": "markdown",
   "metadata": {},
   "source": [
    "Conexión MySQL - Python"
   ]
  },
  {
   "cell_type": "code",
   "execution_count": 10,
   "metadata": {},
   "outputs": [
    {
     "name": "stdout",
     "output_type": "stream",
     "text": [
      "Connected to MySQL Server version  8.0.35\n",
      "You're connected to database:  ('bussines',)\n"
     ]
    }
   ],
   "source": [
    "import mysql.connector\n",
    "\n",
    "\n",
    "\n",
    "connection = mysql.connector.connect(host='localhost',\n",
    "                                         database='Bussines',\n",
    "                                         user='root',\n",
    "                                         password='Peanuts@1991')\n",
    "if connection.is_connected():\n",
    "        db_Info = connection.get_server_info()\n",
    "        print(\"Connected to MySQL Server version \", db_Info)\n",
    "        cursor = connection.cursor()\n",
    "        cursor.execute(\"select database();\")\n",
    "        record = cursor.fetchone()\n",
    "        print(\"You're connected to database: \", record)\n",
    "\n",
    "else:\n",
    "    print(\"Error while connecting to MySQL\")\n"
   ]
  },
  {
   "cell_type": "code",
   "execution_count": null,
   "metadata": {},
   "outputs": [],
   "source": [
    "import mysql.connector\n",
    "import pandas as pd\n",
    "import seaborn as sns\n",
    "import matplotlib.pyplot as plt\n",
    "\n",
    "# Step 1: Connect to the MySQL database\n",
    "conn = mysql.connector.connect(host='localhost',\n",
    "                                         database='Bussines',\n",
    "                                         user='root',\n",
    "                                         password='Peanuts@1991'\n",
    ")\n",
    "\n",
    "query = \"SELECT AVG(amount) FROM transaction\"\n",
    "cursor = conn.cursor()\n",
    "cursor.execute(query)\n",
    "\n",
    "data = cursor.fetchall()\n",
    "columns = [i[0] for i in cursor.description]\n",
    "df = pd.DataFrame(data, columns=columns)\n",
    "\n"
   ]
  },
  {
   "cell_type": "markdown",
   "metadata": {},
   "source": [
    "EX4"
   ]
  },
  {
   "cell_type": "code",
   "execution_count": 15,
   "metadata": {},
   "outputs": [
    {
     "data": {
      "image/png": "[encoded data removed]",
      "text/plain": [
       "<Figure size 640x480 with 1 Axes>"
      ]
     },
     "metadata": {},
     "output_type": "display_data"
    }
   ],
   "source": [
    "import mysql.connector\n",
    "import pandas as pd\n",
    "import seaborn as sns\n",
    "import matplotlib.pyplot as plt\n",
    "\n",
    "# Step 1: Connect to the MySQL database\n",
    "conn = mysql.connector.connect(host='localhost',\n",
    "                                         database='Bussines',\n",
    "                                         user='root',\n",
    "                                         password='Peanuts@1991'\n",
    ")\n",
    "\n",
    "# Step 2: Fetch data from the database\n",
    "query = \"SELECT YEAR(timestamp), SUM(amount) FROM transaction GROUP BY YEAR(timestamp)\"\n",
    "cursor = conn.cursor()\n",
    "cursor.execute(query)\n",
    "\n",
    "# Step 3: Load data into a Pandas DataFrame\n",
    "data = cursor.fetchall()\n",
    "columns = [i[0] for i in cursor.description]\n",
    "df = pd.DataFrame(data, columns=columns)\n",
    "\n",
    "# Step 4: Use Seaborn to create visualizations\n",
    "# Example plot: Bar plot\n",
    "sns.barplot(x=\"YEAR(timestamp)\", y=\"SUM(amount)\", data=df)\n",
    "plt.title(\"Valor Transacciones por año\")\n",
    "plt.xlabel(\"YEAR(timestamp)\")\n",
    "plt.ylabel(\"SUM(amount)\")\n",
    "plt.show()\n",
    "\n",
    "# Close cursor and connection\n",
    "cursor.close()\n",
    "conn.close()"
   ]
  }
 ],
 "metadata": {
  "kernelspec": {
   "display_name": "Python 3",
   "language": "python",
   "name": "python3"
  },
  "language_info": {
   "codemirror_mode": {
    "name": "ipython",
    "version": 3
   },
   "file_extension": ".py",
   "mimetype": "text/x-python",
   "name": "python",
   "nbconvert_exporter": "python",
   "pygments_lexer": "ipython3",
   "version": "3.12.0"
  }
 },
 "nbformat": 4,
 "nbformat_minor": 2
}
