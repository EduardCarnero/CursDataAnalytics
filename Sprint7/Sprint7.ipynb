{
 "cells": [
  {
   "cell_type": "markdown",
   "metadata": {},
   "source": [
    "SPRINT 7"
   ]
  },
  {
   "cell_type": "markdown",
   "metadata": {},
   "source": [
    "NIVEL 1"
   ]
  },
  {
   "cell_type": "markdown",
   "metadata": {},
   "source": [
    "Ex1: BMI Calculator"
   ]
  },
  {
   "cell_type": "code",
   "execution_count": 10,
   "metadata": {},
   "outputs": [
    {
     "name": "stdout",
     "output_type": "stream",
     "text": [
      "Your BMI is: 21 you are in the average range.\n"
     ]
    }
   ],
   "source": [
    "m = input('Welcome to the BMI calculator, please introduce your weight in kgs:')\n",
    "h = input('Thank you, now introduce your height in centimeters')\n",
    "\n",
    "m = float(m)\n",
    "h = float(h)\n",
    "\n",
    "BMI = m/(h/100)**2\n",
    "\n",
    "if BMI <= 18.5:\n",
    "        print('Your BMI is:', int(BMI),'you are lower range.')\n",
    "elif 18.5 < BMI <= 25:\n",
    "        print('Your BMI is:', int(BMI),'you are in the average range.')\n",
    "elif 25 < BMI <= 30:\n",
    "        print('Your BMI is:', int(BMI),'you are in the upper range.')\n",
    "else:\n",
    "        print('Your BMI is:', int(BMI),'you are in the higher range.')"
   ]
  },
  {
   "cell_type": "markdown",
   "metadata": {},
   "source": [
    "Ex2: Temperature converter"
   ]
  },
  {
   "cell_type": "code",
   "execution_count": 5,
   "metadata": {},
   "outputs": [
    {
     "name": "stdout",
     "output_type": "stream",
     "text": [
      "You want to convert 15 º K to º F\n",
      "15.0 ºKelvin are -432.67 ºFarenheit\n"
     ]
    }
   ],
   "source": [
    "x = input('Welcome to the temperature converter, please introduce what unit you have your temperature on (C for Celcius, K for Kelvin or F for Farenheit):')\n",
    "y = input('Thank you, now introduce the temperature you would like to convert it to (C for Celcius, K for Kelvin or F for Farenheit):')\n",
    "z = input('Finally, introduce the temperature you would like to convert:')\n",
    "\n",
    "print('You want to convert', z,'º', x,'to º', y)\n",
    "\n",
    "x = x.upper()\n",
    "y = y.upper()\n",
    "z = float(z)\n",
    "\n",
    "if x == 'C' and y == 'K':\n",
    "    t = z + 273.15\n",
    "    print(z, 'ºCelsius are', t, 'ºKelvin')\n",
    "if x == 'K' and y == 'C':\n",
    "    t = z - 273.15\n",
    "    print(z, 'ºKelvin are', t, 'ºCelsius')\n",
    "if x == 'F' and y == 'C':\n",
    "    t = 5/9*(z - 32)\n",
    "    print(z, 'ºFarenheit are', t, 'ºCelsius')\n",
    "if x == 'C' and y == 'F':\n",
    "    t = 9/5*z + 32\n",
    "    print(z, 'ºCelsius are', t, 'ºFarenheit')\n",
    "if x == 'F' and y == 'K':\n",
    "    t = 5/9*(z + 459.67)\n",
    "    print(z, 'ºFarenheit are', t, 'ºKelvin')\n",
    "if x == 'K' and y == 'F':\n",
    "    t = 1.8*z - 459.67\n",
    "    print(z, 'ºKelvin are', t, 'ºFarenheit')\n",
    "else:\n",
    "    print('Error introducing the temperatures units.    ')"
   ]
  },
  {
   "cell_type": "markdown",
   "metadata": {},
   "source": [
    "Ex3: Repeated word counter"
   ]
  },
  {
   "cell_type": "code",
   "execution_count": 7,
   "metadata": {},
   "outputs": [
    {
     "name": "stdout",
     "output_type": "stream",
     "text": [
      "['hello', 'how', 'are', 'you']\n"
     ]
    }
   ],
   "source": [
    "text = input('Welcome to the repeated word counter, please introduce here the text you want to conut:')\n",
    "\n",
    "text_as_list = text.split()\n",
    "\n",
    "print(text_as_list)"
   ]
  }
 ],
 "metadata": {
  "kernelspec": {
   "display_name": "Python 3",
   "language": "python",
   "name": "python3"
  },
  "language_info": {
   "codemirror_mode": {
    "name": "ipython",
    "version": 3
   },
   "file_extension": ".py",
   "mimetype": "text/x-python",
   "name": "python",
   "nbconvert_exporter": "python",
   "pygments_lexer": "ipython3",
   "version": "3.12.0"
  }
 },
 "nbformat": 4,
 "nbformat_minor": 2
}
