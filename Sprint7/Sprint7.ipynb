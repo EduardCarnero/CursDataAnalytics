{
 "cells": [
  {
   "cell_type": "markdown",
   "metadata": {},
   "source": [
    "SPRINT 7"
   ]
  },
  {
   "cell_type": "markdown",
   "metadata": {},
   "source": [
    "NIVEL 1"
   ]
  },
  {
   "cell_type": "markdown",
   "metadata": {},
   "source": [
    "Ex1: BMI Calculator"
   ]
  },
  {
   "cell_type": "code",
   "execution_count": 10,
   "metadata": {},
   "outputs": [
    {
     "name": "stdout",
     "output_type": "stream",
     "text": [
      "Your BMI is: 21 you are in the average range.\n"
     ]
    }
   ],
   "source": [
    "m = input('Welcome to the BMI calculator, please introduce your weight in kgs:')\n",
    "h = input('Thank you, now introduce your height in centimeters')\n",
    "\n",
    "m = float(m)\n",
    "h = float(h)\n",
    "\n",
    "BMI = m/(h/100)**2\n",
    "\n",
    "if BMI <= 18.5:\n",
    "        print('Your BMI is:', int(BMI),'you are lower range.')\n",
    "elif 18.5 < BMI <= 25:\n",
    "        print('Your BMI is:', int(BMI),'you are in the average range.')\n",
    "elif 25 < BMI <= 30:\n",
    "        print('Your BMI is:', int(BMI),'you are in the upper range.')\n",
    "else:\n",
    "        print('Your BMI is:', int(BMI),'you are in the higher range.')"
   ]
  },
  {
   "cell_type": "markdown",
   "metadata": {},
   "source": [
    "Ex2: Temperature converter"
   ]
  },
  {
   "cell_type": "code",
   "execution_count": 5,
   "metadata": {},
   "outputs": [
    {
     "name": "stdout",
     "output_type": "stream",
     "text": [
      "You want to convert 15 º K to º F\n",
      "15.0 ºKelvin are -432.67 ºFarenheit\n"
     ]
    }
   ],
   "source": [
    "x = input('Welcome to the temperature converter, please introduce what unit you have your temperature on (C for Celcius, K for Kelvin or F for Farenheit):')\n",
    "y = input('Thank you, now introduce the temperature you would like to convert it to (C for Celcius, K for Kelvin or F for Farenheit):')\n",
    "z = input('Finally, introduce the temperature you would like to convert:')\n",
    "\n",
    "print('You want to convert', z,'º', x,'to º', y)\n",
    "\n",
    "x = x.upper()\n",
    "y = y.upper()\n",
    "z = float(z)\n",
    "\n",
    "if x == 'C' and y == 'K':\n",
    "    t = z + 273.15\n",
    "    print(z, 'ºCelsius are', t, 'ºKelvin')\n",
    "if x == 'K' and y == 'C':\n",
    "    t = z - 273.15\n",
    "    print(z, 'ºKelvin are', t, 'ºCelsius')\n",
    "if x == 'F' and y == 'C':\n",
    "    t = 5/9*(z - 32)\n",
    "    print(z, 'ºFarenheit are', t, 'ºCelsius')\n",
    "if x == 'C' and y == 'F':\n",
    "    t = 9/5*z + 32\n",
    "    print(z, 'ºCelsius are', t, 'ºFarenheit')\n",
    "if x == 'F' and y == 'K':\n",
    "    t = 5/9*(z + 459.67)\n",
    "    print(z, 'ºFarenheit are', t, 'ºKelvin')\n",
    "if x == 'K' and y == 'F':\n",
    "    t = 1.8*z - 459.67\n",
    "    print(z, 'ºKelvin are', t, 'ºFarenheit')\n",
    "else:\n",
    "    print('Error introducing the temperatures units.    ')"
   ]
  },
  {
   "cell_type": "markdown",
   "metadata": {},
   "source": [
    "Ex3: Repeated word counter"
   ]
  },
  {
   "cell_type": "code",
   "execution_count": 10,
   "metadata": {},
   "outputs": [
    {
     "name": "stdout",
     "output_type": "stream",
     "text": [
      "['hello', 'hello', 'hello', 'ola', 'ola', 'dos', 'uno', 'dos', 'uno', 'uno', 'dos', 'uno', 'uno']\n",
      "hello 3\n",
      "ola 2\n",
      "dos 3\n",
      "uno 5\n"
     ]
    }
   ],
   "source": [
    "text = input('Welcome to the repeated word counter, please introduce here the text you want to count:')\n",
    "\n",
    "text_as_list = text.split()\n",
    "\n",
    "counted_word = set()\n",
    "\n",
    "for word in text_as_list:\n",
    "    if word not in counted_word:\n",
    "        print(word, text_as_list.count(word))\n",
    "        counted_word.add(word)\n",
    "\n"
   ]
  },
  {
   "cell_type": "markdown",
   "metadata": {},
   "source": [
    "Ex4: Diccionari Invers"
   ]
  },
  {
   "cell_type": "code",
   "execution_count": 11,
   "metadata": {},
   "outputs": [
    {
     "name": "stdout",
     "output_type": "stream",
     "text": [
      "{'val1': 'key1', 'val2': 'key2', 'val3': 'key3'}\n"
     ]
    }
   ],
   "source": [
    "enquesta = {'k1': 'v1', 'k2': 'v2', 'k3': 'v3', 'k4': 'k4'}\n",
    "\n",
    "def reverse_dict(d):\n",
    "    reverse_dict = {b: a for a, b in d.items()}\n",
    "\n",
    "    for a, b in reverse_dict.items():\n",
    "        if a == b:\n",
    "            print('The following key value pair is the same:', a, b)\n",
    "    \n",
    "    return reverse_dict\n",
    "\n",
    "enquesta_rev = reverse_dict(enquesta)\n",
    "\n",
    "print(enquesta_rev)"
   ]
  },
  {
   "cell_type": "markdown",
   "metadata": {},
   "source": [
    "NIVEL 2"
   ]
  },
  {
   "cell_type": "markdown",
   "metadata": {},
   "source": [
    "Ex1"
   ]
  },
  {
   "cell_type": "code",
   "execution_count": 23,
   "metadata": {},
   "outputs": [
    {
     "name": "stdout",
     "output_type": "stream",
     "text": [
      "The following key value pair is the same: k4 k4\n",
      "{'v1': 'k1', 'v2': 'k2', 'v3': 'k3', 'k4': 'k4'}\n",
      "[('v1', 'k1'), ('v2', 'k2'), ('v3', 'k3'), ('k4', 'k4')]\n"
     ]
    }
   ],
   "source": [
    "enquesta = {'k1': 'v1', 'k2': 'v2', 'k3': 'v3', 'k4': 'k4'}\n",
    "\n",
    "def reverse_dict(d):\n",
    "    reverse_dict = {b: a for a, b in d.items()}\n",
    "\n",
    "    for a, b in reverse_dict.items():\n",
    "        if a == b:\n",
    "            print('The following key value pair is the same:', a, b)\n",
    "    \n",
    "    return reverse_dict\n",
    "\n",
    "enquesta_rev = reverse_dict(enquesta)\n",
    "\n",
    "enquesta_rev_list = [*enquesta_rev.items()]\n",
    "\n",
    "print(enquesta_rev)\n",
    "\n",
    "print(enquesta_rev_list)\n"
   ]
  },
  {
   "cell_type": "markdown",
   "metadata": {},
   "source": [
    "Ex2"
   ]
  },
  {
   "cell_type": "code",
   "execution_count": 26,
   "metadata": {},
   "outputs": [
    {
     "name": "stdout",
     "output_type": "stream",
     "text": [
      "Floats: ['1.3', '1e10', '2', 1, 1.4, 1, 2, '3', '3.4']\n",
      "Other: ['one', 'seven', '3-1/2', 'not-a-number']\n"
     ]
    }
   ],
   "source": [
    "client_list = [ '1.3', 'one' , '1e10' , 'seven', '3-1/2', ('2',1,1.4,'not-a-number'), [1,2,'3','3.4']]\n",
    "\n",
    "def float_other_sort(d):\n",
    "    floats = []\n",
    "    other = []\n",
    "\n",
    "    for x in d:\n",
    "        if isinstance(x, (list, tuple)):\n",
    "            x_float, x_other = float_other_sort(x)\n",
    "            floats.extend(x_float)\n",
    "            other.extend(x_other)\n",
    "        else:\n",
    "            try:\n",
    "                float_value = float(x)\n",
    "                floats.append(x)\n",
    "            except:\n",
    "                other.append(x)\n",
    "    return floats, other\n",
    "\n",
    "client_list_floats, client_list_other = float_other_sort(client_list)\n",
    "\n",
    "print('Floats:', client_list_floats)\n",
    "print('Other:', client_list_other)"
   ]
  },
  {
   "cell_type": "markdown",
   "metadata": {},
   "source": [
    "NIVEL 3"
   ]
  },
  {
   "cell_type": "markdown",
   "metadata": {},
   "source": [
    "Ex3"
   ]
  },
  {
   "cell_type": "code",
   "execution_count": 33,
   "metadata": {},
   "outputs": [
    {
     "name": "stdout",
     "output_type": "stream",
     "text": [
      "be 1\n",
      "cannot 1\n",
      "must 1\n",
      "one 2\n",
      "silent. 1\n",
      "speak, 1\n",
      "thereof 1\n",
      "whereof 1\n"
     ]
    }
   ],
   "source": [
    "text = input('Welcome to the repeated word counter, please introduce here the text you want to count:')\n",
    "\n",
    "text_lower = text.lower()\n",
    "\n",
    "text_as_list = text_lower.split()\n",
    "\n",
    "sorted_text = text_as_list.sort()\n",
    "\n",
    "counted_word = set()\n",
    "\n",
    "for word in text_as_list:\n",
    "    if word not in counted_word:\n",
    "        print(word, text_as_list.count(word))\n",
    "        counted_word.add(word)\n"
   ]
  },
  {
   "cell_type": "code",
   "execution_count": 38,
   "metadata": {},
   "outputs": [
    {
     "name": "stdout",
     "output_type": "stream",
     "text": [
      "{'a': 2, 'achieve': 1, 'and': 1, 'are': 2, 'as': 1, 'can': 2, 'code': 1, 'comprehension.': 1, 'counts,': 1, 'dictionary': 1, 'dictionary,': 1, 'get': 1, \"here's\": 1, 'how': 1, 'keys': 1, 'modify': 1, 'output': 1, 'respective': 1, 'the': 4, 'their': 1, 'this': 1, 'to': 2, 'use': 1, 'values': 1, 'where': 1, 'words': 1, 'you': 2, 'your': 1}\n"
     ]
    }
   ],
   "source": [
    "text = input('Welcome to the repeated word counter, please introduce here the text you want to count:')\n",
    "\n",
    "text_lower = text.lower()\n",
    "\n",
    "text_as_list = text_lower.split()\n",
    "\n",
    "sorted_text = text_as_list.sort()\n",
    "\n",
    "counted_word_a = {}\n",
    "counted_word_b = {}\n",
    "counted_word_c = {}\n",
    "counted_word_d = {}\n",
    "\n",
    "for word in text_as_list:\n",
    "    if word not in counted_word and word.startswith('a'):\n",
    "        counted_word_a[word] = text_as_list.count(word)\n",
    "    elif word not in counted_word and word.startswith('b'):\n",
    "        counted_word_b[word] = text_as_list.count(word)\n",
    "    elif word not in counted_word and word.startswith('c'):\n",
    "        counted_word_c[word] = text_as_list.count(word)\n",
    "\n",
    "print(counted_word)\n"
   ]
  },
  {
   "cell_type": "code",
   "execution_count": 50,
   "metadata": {},
   "outputs": [
    {
     "name": "stdout",
     "output_type": "stream",
     "text": [
      "tú me quieres alba, me quieres de espumas, me quieres de nácar. que sea azucena sobre todas, casta. de perfume tenue. corola cerrada .  ni un rayo de luna filtrado me haya. ni una margarita se diga mi hermana. tú me quieres nívea, tú me quieres blanca, tú me quieres alba.  tú que hubiste todas las copas a mano, de frutos y mieles los labios morados. tú que en el banquete cubierto de pámpanos dejaste las carnes festejando a baco. tú que en los jardines negros del engaño vestido de rojo corriste al estrago.  tú que el esqueleto conservas intacto no sé todavía por cuáles milagros, me pretendes blanca (dios te lo perdone), me pretendes casta (dios te lo perdone), ¡me pretendes alba!  huye hacia los bosques, vete a la montaña; límpiate la boca; vive en las cabañas; toca con las manos la tierra mojada; alimenta el cuerpo con raíz amarga; bebe de las rocas; duerme sobre escarcha; renueva tejidos con salitre y agua:  habla con los pájaros y lévate al alba. y cuando las carnes te sean tornadas, y cuando hayas puesto en ellas el alma que por las alcobas se quedó enredada, entonces, buen hombre, preténdeme blanca, preténdeme nívea, preténdeme casta.\n",
      "{'(': {'(dios': 2}, '.': {'.': 1}, 'a': {'alba,': 1, 'azucena': 1, 'alba.': 2, 'a': 3, 'al': 2, 'alba!': 1, 'alimenta': 1, 'amarga;': 1, 'agua:': 1, 'alma': 1, 'alcobas': 1}, 'b': {'blanca,': 2, 'banquete': 1, 'baco.': 1, 'blanca': 1, 'bosques,': 1, 'boca;': 1, 'bebe': 1, 'buen': 1}, 'c': {'casta.': 2, 'corola': 1, 'cerrada': 1, 'copas': 1, 'cubierto': 1, 'carnes': 2, 'corriste': 1, 'conservas': 1, 'cuáles': 1, 'casta': 1, 'cabañas;': 1, 'con': 4, 'cuerpo': 1, 'cuando': 2}, 'd': {'de': 8, 'diga': 1, 'dejaste': 1, 'del': 1, 'duerme': 1}, 'e': {'espumas,': 1, 'en': 4, 'el': 4, 'engaño': 1, 'estrago.': 1, 'esqueleto': 1, 'escarcha;': 1, 'ellas': 1, 'enredada,': 1, 'entonces,': 1}, 'f': {'filtrado': 1, 'frutos': 1, 'festejando': 1}, 'h': {'haya.': 1, 'hermana.': 1, 'hubiste': 1, 'huye': 1, 'hacia': 1, 'habla': 1, 'hayas': 1, 'hombre,': 1}, 'i': {'intacto': 1}, 'j': {'jardines': 1}, 'l': {'luna': 1, 'las': 7, 'los': 4, 'labios': 1, 'lo': 2, 'la': 3, 'límpiate': 1, 'lévate': 1}, 'm': {'me': 9, 'margarita': 1, 'mi': 1, 'mano,': 1, 'mieles': 1, 'morados.': 1, 'milagros,': 1, 'montaña;': 1, 'manos': 1, 'mojada;': 1}, 'n': {'nácar.': 1, 'ni': 2, 'nívea,': 2, 'negros': 1, 'no': 1}, 'p': {'perfume': 1, 'pámpanos': 1, 'por': 2, 'pretendes': 3, 'perdone),': 2, 'pájaros': 1, 'puesto': 1, 'preténdeme': 3}, 'q': {'quieres': 6, 'que': 6, 'quedó': 1}, 'r': {'rayo': 1, 'rojo': 1, 'raíz': 1, 'rocas;': 1, 'renueva': 1}, 's': {'sea': 1, 'sobre': 2, 'se': 2, 'sé': 1, 'salitre': 1, 'sean': 1}, 't': {'tú': 8, 'todas,': 1, 'tenue.': 1, 'todas': 1, 'todavía': 1, 'te': 3, 'toca': 1, 'tierra': 1, 'tejidos': 1, 'tornadas,': 1}, 'u': {'un': 1, 'una': 1}, 'v': {'vestido': 1, 'vete': 1, 'vive': 1}, 'y': {'y': 5}, '¡': {'¡me': 1}}\n"
     ]
    }
   ],
   "source": [
    "text = input('Welcome to the repeated word counter, please introduce here the text you want to count:')\n",
    "\n",
    "text = text.replace('.', '').replace(',', '').replace('!', '').replace('¡', '').replace('?', '').replace('¿', '').replace(';', '').replace(':', '').replace('-', '').replace('_', '').replace(')', '').replace('(', '')\n",
    "\n",
    "text_lower = text.lower()\n",
    "\n",
    "text_as_list = text_lower.split()\n",
    "\n",
    "print(text_lower)\n",
    "\n",
    "word_counts = {}\n",
    "\n",
    "for word in text_as_list:\n",
    "    first_letter = word[0]\n",
    "    if first_letter not in word_counts:\n",
    "        word_counts[first_letter] = {}\n",
    "    if word not in word_counts[first_letter]:\n",
    "        word_counts[first_letter][word] = text_as_list.count(word)\n",
    "    wc_keys = list(word_counts.keys())\n",
    "    wc_keys.sort()\n",
    "    word_counts = {i: word_counts[i] for i in wc_keys}\n",
    "\n",
    "print(word_counts)"
   ]
  },
  {
   "cell_type": "code",
   "execution_count": 51,
   "metadata": {},
   "outputs": [
    {
     "name": "stdout",
     "output_type": "stream",
     "text": [
      "tú me quieres alba, me quieres de espumas, me quieres de nácar. que sea azucena sobre todas, casta. de perfume tenue. corola cerrada .  ni un rayo de luna filtrado me haya. ni una margarita se diga mi hermana. tú me quieres nívea, tú me quieres blanca, tú me quieres alba.  tú que hubiste todas las copas a mano, de frutos y mieles los labios morados. tú que en el banquete cubierto de pámpanos dejaste las carnes festejando a baco. tú que en los jardines negros del engaño vestido de rojo corriste al estrago.  tú que el esqueleto conservas intacto no sé todavía por cuáles milagros, me pretendes blanca (dios te lo perdone), me pretendes casta (dios te lo perdone), ¡me pretendes alba!  huye hacia los bosques, vete a la montaña; límpiate la boca; vive en las cabañas; toca con las manos la tierra mojada; alimenta el cuerpo con raíz amarga; bebe de las rocas; duerme sobre escarcha; renueva tejidos con salitre y agua:  habla con los pájaros y lévate al alba. y cuando las carnes te sean tornadas, y cuando hayas puesto en ellas el alma que por las alcobas se quedó enredada, entonces, buen hombre, preténdeme blanca, preténdeme nívea, preténdeme casta.\n",
      "{'(': {'(dios': 2}, '.': {'.': 1}, 'a': {'alba,': 1, 'azucena': 1, 'alba.': 2, 'a': 3, 'al': 2, 'alba!': 1, 'alimenta': 1, 'amarga;': 1, 'agua:': 1, 'alma': 1, 'alcobas': 1}, 'b': {'blanca,': 2, 'banquete': 1, 'baco.': 1, 'blanca': 1, 'bosques,': 1, 'boca;': 1, 'bebe': 1, 'buen': 1}, 'c': {'casta.': 2, 'corola': 1, 'cerrada': 1, 'copas': 1, 'cubierto': 1, 'carnes': 2, 'corriste': 1, 'conservas': 1, 'cuáles': 1, 'casta': 1, 'cabañas;': 1, 'con': 4, 'cuerpo': 1, 'cuando': 2}, 'd': {'de': 8, 'diga': 1, 'dejaste': 1, 'del': 1, 'duerme': 1}, 'e': {'espumas,': 1, 'en': 4, 'el': 4, 'engaño': 1, 'estrago.': 1, 'esqueleto': 1, 'escarcha;': 1, 'ellas': 1, 'enredada,': 1, 'entonces,': 1}, 'f': {'filtrado': 1, 'frutos': 1, 'festejando': 1}, 'h': {'haya.': 1, 'hermana.': 1, 'hubiste': 1, 'huye': 1, 'hacia': 1, 'habla': 1, 'hayas': 1, 'hombre,': 1}, 'i': {'intacto': 1}, 'j': {'jardines': 1}, 'l': {'luna': 1, 'las': 7, 'los': 4, 'labios': 1, 'lo': 2, 'la': 3, 'límpiate': 1, 'lévate': 1}, 'm': {'me': 9, 'margarita': 1, 'mi': 1, 'mano,': 1, 'mieles': 1, 'morados.': 1, 'milagros,': 1, 'montaña;': 1, 'manos': 1, 'mojada;': 1}, 'n': {'nácar.': 1, 'ni': 2, 'nívea,': 2, 'negros': 1, 'no': 1}, 'p': {'perfume': 1, 'pámpanos': 1, 'por': 2, 'pretendes': 3, 'perdone),': 2, 'pájaros': 1, 'puesto': 1, 'preténdeme': 3}, 'q': {'quieres': 6, 'que': 6, 'quedó': 1}, 'r': {'rayo': 1, 'rojo': 1, 'raíz': 1, 'rocas;': 1, 'renueva': 1}, 's': {'sea': 1, 'sobre': 2, 'se': 2, 'sé': 1, 'salitre': 1, 'sean': 1}, 't': {'tú': 8, 'todas,': 1, 'tenue.': 1, 'todas': 1, 'todavía': 1, 'te': 3, 'toca': 1, 'tierra': 1, 'tejidos': 1, 'tornadas,': 1}, 'u': {'un': 1, 'una': 1}, 'v': {'vestido': 1, 'vete': 1, 'vive': 1}, 'y': {'y': 5}, '¡': {'¡me': 1}}\n"
     ]
    }
   ],
   "source": [
    "text = input('Welcome to the repeated word counter, please introduce here the text you want to count:')\n",
    "\n",
    "text_lower = text.lower()\n",
    "\n",
    "text_as_list = text_lower.split()\n",
    "\n",
    "print(text_lower)\n",
    "\n",
    "word_counts = {}\n",
    "\n",
    "for word in text_as_list:\n",
    "    first_letter = word[0]\n",
    "    if first_letter not in word_counts:\n",
    "        word_counts[first_letter] = {}\n",
    "    if word not in word_counts[first_letter]:\n",
    "        word_counts[first_letter][word] = text_as_list.count(word)\n",
    "\n",
    "sorted_wc = dict(sorted(word_counts.items()))\n",
    "\n",
    "\n",
    "print(sorted_wc)"
   ]
  },
  {
   "cell_type": "code",
   "execution_count": 55,
   "metadata": {},
   "outputs": [
    {
     "name": "stdout",
     "output_type": "stream",
     "text": [
      "tú me quieres alba me quieres de espumas me quieres de nácar que sea azucena sobre todas casta de perfume tenue corola cerrada   ni un rayo de luna filtrado me haya ni una margarita se diga mi hermana tú me quieres nívea tú me quieres blanca tú me quieres alba  tú que hubiste todas las copas a mano de frutos y mieles los labios morados tú que en el banquete cubierto de pámpanos dejaste las carnes festejando a baco tú que en los jardines negros del engaño vestido de rojo corriste al estrago  tú que el esqueleto conservas intacto no sé todavía por cuáles milagros me pretendes blanca dios te lo perdone me pretendes casta dios te lo perdone me pretendes alba  huye hacia los bosques vete a la montaña límpiate la boca vive en las cabañas toca con las manos la tierra mojada alimenta el cuerpo con raíz amarga bebe de las rocas duerme sobre escarcha renueva tejidos con salitre y agua  habla con los pájaros y lévate al alba y cuando las carnes te sean tornadas y cuando hayas puesto en ellas el alma que por las alcobas se quedó enredada entonces buen hombre preténdeme blanca preténdeme nívea preténdeme casta\n",
      "{'a': {'a': 3, 'agua': 1, 'al': 2, 'alba': 4, 'alcobas': 1, 'alimenta': 1, 'alma': 1, 'amarga': 1, 'azucena': 1}, 'b': {'baco': 1, 'banquete': 1, 'bebe': 1, 'blanca': 3, 'boca': 1, 'bosques': 1, 'buen': 1}, 'c': {'cabañas': 1, 'carnes': 2, 'casta': 3, 'cerrada': 1, 'con': 4, 'conservas': 1, 'copas': 1, 'corola': 1, 'corriste': 1, 'cuando': 2, 'cubierto': 1, 'cuerpo': 1, 'cuáles': 1}, 'd': {'de': 8, 'dejaste': 1, 'del': 1, 'diga': 1, 'dios': 2, 'duerme': 1}, 'e': {'el': 4, 'ellas': 1, 'en': 4, 'engaño': 1, 'enredada': 1, 'entonces': 1, 'escarcha': 1, 'espumas': 1, 'esqueleto': 1, 'estrago': 1}, 'f': {'festejando': 1, 'filtrado': 1, 'frutos': 1}, 'h': {'habla': 1, 'hacia': 1, 'haya': 1, 'hayas': 1, 'hermana': 1, 'hombre': 1, 'hubiste': 1, 'huye': 1}, 'i': {'intacto': 1}, 'j': {'jardines': 1}, 'l': {'la': 3, 'labios': 1, 'las': 7, 'lo': 2, 'los': 4, 'luna': 1, 'lévate': 1, 'límpiate': 1}, 'm': {'mano': 1, 'manos': 1, 'margarita': 1, 'me': 10, 'mi': 1, 'mieles': 1, 'milagros': 1, 'mojada': 1, 'montaña': 1, 'morados': 1}, 'n': {'negros': 1, 'ni': 2, 'no': 1, 'nácar': 1, 'nívea': 2}, 'p': {'perdone': 2, 'perfume': 1, 'por': 2, 'pretendes': 3, 'preténdeme': 3, 'puesto': 1, 'pájaros': 1, 'pámpanos': 1}, 'q': {'que': 6, 'quedó': 1, 'quieres': 6}, 'r': {'rayo': 1, 'raíz': 1, 'renueva': 1, 'rocas': 1, 'rojo': 1}, 's': {'salitre': 1, 'se': 2, 'sea': 1, 'sean': 1, 'sobre': 2, 'sé': 1}, 't': {'te': 3, 'tejidos': 1, 'tenue': 1, 'tierra': 1, 'toca': 1, 'todas': 2, 'todavía': 1, 'tornadas': 1, 'tú': 8}, 'u': {'un': 1, 'una': 1}, 'v': {'vestido': 1, 'vete': 1, 'vive': 1}, 'y': {'y': 5}}\n"
     ]
    }
   ],
   "source": [
    "text = input('Welcome to the repeated word counter, please introduce here the text you want to count:')\n",
    "\n",
    "text = text.replace('.', '').replace(',', '').replace('!', '').replace('¡', '').replace('?', '').replace('¿', '').replace(';', '').replace(':', '').replace('-', '').replace('_', '').replace(')', '').replace('(', '')\n",
    "\n",
    "text_lower = text.lower()\n",
    "\n",
    "text_as_list = text_lower.split()\n",
    "\n",
    "word_counts = {}\n",
    "\n",
    "for word in text_as_list:\n",
    "    first_letter = word[0]\n",
    "    if first_letter not in word_counts:\n",
    "        word_counts[first_letter] = {}\n",
    "    if word not in word_counts[first_letter]:\n",
    "        word_counts[first_letter][word] = text_as_list.count(word)\n",
    "\n",
    "sorted_word_counts = {letter: dict(sorted(words.items())) for letter, words in word_counts.items()}\n",
    "\n",
    "sorted_wc = dict(sorted(sorted_word_counts.items()))\n",
    "\n",
    "\n",
    "print(sorted_wc)"
   ]
  }
 ],
 "metadata": {
  "kernelspec": {
   "display_name": "Python 3",
   "language": "python",
   "name": "python3"
  },
  "language_info": {
   "codemirror_mode": {
    "name": "ipython",
    "version": 3
   },
   "file_extension": ".py",
   "mimetype": "text/x-python",
   "name": "python",
   "nbconvert_exporter": "python",
   "pygments_lexer": "ipython3",
   "version": "3.12.0"
  }
 },
 "nbformat": 4,
 "nbformat_minor": 2
}
