{
 "cells": [
  {
   "cell_type": "markdown",
   "metadata": {},
   "source": [
    "# **NIVEL1**"
   ]
  },
  {
   "cell_type": "markdown",
   "metadata": {},
   "source": [
    "#### *EX1*"
   ]
  },
  {
   "cell_type": "code",
   "execution_count": 21,
   "metadata": {},
   "outputs": [
    {
     "name": "stdout",
     "output_type": "stream",
     "text": [
      "Height cannot be 0\n",
      "Your BMI is 8600.00 and you are obese\n"
     ]
    }
   ],
   "source": [
    "def bmi_calculator():\n",
    "    #1\n",
    "    while True:\n",
    "        #2    \n",
    "        try:    \n",
    "            h = float(input('Introduce your height in cm:'))/100\n",
    "\n",
    "            #3\n",
    "            if h == 0:\n",
    "                raise ValueError('Height cannot be 0')\n",
    "            \n",
    "            w = float(input('Introduce your weight in kg:'))\n",
    "\n",
    "            bmi = w/h**2\n",
    "\n",
    "            #4\n",
    "            if bmi <= 18.5:\n",
    "                print('Your BMI is {:.2f} and you are underweight'.format(bmi))\n",
    "            elif bmi <= 25:\n",
    "                print('Your BMI is {:.2f} and you are normal'.format(bmi))\n",
    "            elif bmi < 30:\n",
    "                print('Your BMI is {:.2f} and you are overweight'.format(bmi))\n",
    "            else:\n",
    "                print('Your BMI is {:.2f} and you are obese'.format(bmi))\n",
    "            break\n",
    "        except ValueError as e:\n",
    "             print(e)\n",
    "\n",
    "\n",
    "bmi_calculator()\n",
    "\n",
    "#1 - Iniciamos bucle while True (se ejecutará siempre hasta que encuentre un break)\n",
    "#2 - Usaremos un try-except para permitir solo valores que puedan ser traducidos a float, si el usuario introduce un string por ejemplo se ejecuta el except, se imprime el error y se vuelve a ejecutar el bucle.\n",
    "#3 - Si se introduce una altura = 0 levantamos un ValueError y el bucle se vuelve a ejecutar, de esta manera evitamos que explote la formula de BMI (se dividiria por 0)\n",
    "#4 - Después de pedir los datos al usuario y calcular el BMI clasificamos con if-elif statements e imprimimos respuesta (con 2 decimales); finalmente rompemos el bucle while con un break, que detendria la función bmi_calculator.\n"
   ]
  },
  {
   "cell_type": "markdown",
   "metadata": {},
   "source": [
    "#### *EX2*"
   ]
  },
  {
   "cell_type": "code",
   "execution_count": 18,
   "metadata": {},
   "outputs": [
    {
     "name": "stdout",
     "output_type": "stream",
     "text": [
      "Please introduce a correct unit to convert to, either Celsius (C) o Kelvin (K)\n",
      "Your temperature in Kelvin is 288.40ºK\n"
     ]
    }
   ],
   "source": [
    "def temp_converter():\n",
    "    #1\n",
    "    while True:\n",
    "        #2    \n",
    "        try:\n",
    "            u = input('What unit do you wish to convert your temperature to , Celsius (C) or Kelvin (K)?').upper()\n",
    "            #3\n",
    "            if u not in ['C', 'K']:\n",
    "                raise ValueError('Please introduce a correct unit to convert to, either Celsius (C) o Kelvin (K)')\n",
    "\n",
    "            t = float(input('Introduce your temperature:'))\n",
    "\n",
    "            #4\n",
    "            if u == 'C':\n",
    "                print('Your temperature in Kelvin is {:.2f}ºK' .format(t+273.15))\n",
    "            elif u == 'K':\n",
    "                print('Your temperature in Celsius is {:.2f}ºC' .format(t-273.15))\n",
    "            break\n",
    "        except ValueError as e:\n",
    "            print(e)\n",
    "\n",
    "temp_converter()\n",
    "\n",
    "#1 - Iniciamos bucle while True (se ejecutará siempre hasta que encuentre un break)\n",
    "#2 - Usaremos un try-except para permitir solo valores que puedan ser traducidos a float(en el caso de t) o que sean string (en el caso de u), \n",
    "#    si el usuario introduce un string en t por ejemplo se ejecuta el except, se imprime el error y se vuelve a ejecutar el bucle (es decir le comunica al usuario que el calor nbo es correcto y le vuelve a preguntar)\n",
    "#3 - Comporbamos que el valor de u sea C o K, si no es asi levantamos error y el bucle vuelve a empezar.\n",
    "#4 - Con un if-elif classificamos la respuesta en funcion de si es C o K y imprimimos la solución (con 2 decimales), calculandola directamente en el print. Con un break se detiene el bucle while y la función."
   ]
  },
  {
   "cell_type": "markdown",
   "metadata": {},
   "source": [
    "#### *EX3*"
   ]
  },
  {
   "cell_type": "code",
   "execution_count": 2,
   "metadata": {},
   "outputs": [
    {
     "data": {
      "text/plain": [
       "{'hello': 2}"
      ]
     },
     "execution_count": 2,
     "metadata": {},
     "output_type": "execute_result"
    }
   ],
   "source": [
    "#1\n",
    "import string\n",
    "\n",
    "#2\n",
    "def text_cleaner(text):\n",
    "    remove_punct = str.maketrans('', '', string.punctuation)\n",
    "    text_no_punct = text.translate(remove_punct)\n",
    "    text_as_list = text_no_punct.split()\n",
    "\n",
    "    return text_as_list\n",
    "\n",
    "#3\n",
    "def word_counter(t):\n",
    "    word_count = {}\n",
    "    for word in t:\n",
    "        if word not in word_count:\n",
    "            word_count[word] = 0\n",
    "        word_count[word] += 1\n",
    "\n",
    "    return word_count\n",
    "\n",
    "#4\n",
    "def main():\n",
    "    text = input('Introduce the text you want to count:').lower()\n",
    "    cleaned_text = text_cleaner(text)\n",
    "    word_counts = word_counter(cleaned_text)\n",
    "\n",
    "    return word_counts\n",
    "\n",
    "main()\n",
    "\n",
    "#1 - Importamos la libreria string que usaremos a continuación.\n",
    "#2 - Definimos una función text_cleaner. Esta funcón primero crea un mapa mediante str.maketrans, este mapa relaciona elementos a sustituir con elementos sustituyentes, en este caso string.punctuation es una constante\n",
    "#    que contiene todos estos signos de puntuación: !\"#$%&'()*+,-./:;<=>?@[\\]^_`{|}~; y definiremos que los remplaze por nada (''). A este transforamción que acabamos de definir la llamaremos remove_punct.\n",
    "#    A continuación con la función transalte aplicaremos este mapa a la variable de la función (text), y luego con la función split lo convertiremos en una lista.\n",
    "#3 - Definimos una función word_counter, que contará los elementos de una lista y los guardará en un diccionario, donde la key será el elemento y el value será el count de ese elemento.\n",
    "#    Con un bucle for recorreremos la lista, si la palabra no está en el diccionario la añade con word = key y value = 0, después le suma 1 al value, que es el count.\n",
    "#4 - Finalmente con la función main pedimos al usuario que introduzca un texto y a este input le aplicamos las dos funciones anteriores, retornando el diccionario con las palabras del texto y su conteo."
   ]
  },
  {
   "cell_type": "markdown",
   "metadata": {},
   "source": [
    "#### *EX4*"
   ]
  },
  {
   "cell_type": "code",
   "execution_count": 17,
   "metadata": {},
   "outputs": [
    {
     "name": "stdout",
     "output_type": "stream",
     "text": [
      "Error: duplicate value v1\n"
     ]
    },
    {
     "data": {
      "text/plain": [
       "{'v1': 'k1', 'k4': 'k3'}"
      ]
     },
     "execution_count": 17,
     "metadata": {},
     "output_type": "execute_result"
    }
   ],
   "source": [
    "client_dictionary = {'k1': 'v1', 'k2': 'v1', 'k3': 'v3', 'k4': 'k4'}\n",
    "\n",
    "#1\n",
    "def dict_inverter(d):\n",
    "    #2\n",
    "    inv_dict = {}\n",
    "\n",
    "    seen_keys = set()\n",
    "    seen_values = set()\n",
    "\n",
    "    #3\n",
    "    for key, value in d.items():\n",
    "        if key in seen_keys:\n",
    "            print('Error: duplicate key', key)\n",
    "        if value in seen_values:\n",
    "            print('Error: duplicate value', value)\n",
    "        else:\n",
    "            seen_keys.add(key)\n",
    "            seen_values.add(value)\n",
    "            inv_dict[value] = key\n",
    "\n",
    "    return inv_dict\n",
    "\n",
    "dict_inverter(client_dictionary)\n",
    "\n",
    "#1 - Definimos la función\n",
    "#2 - Creamos un diccionario vacio y dos sets, uno para detectar keys repetidas y otro para detectar values.\n",
    "#3 - Con un bucle for recorremos las keys y los values del diccionario d mediante la funcion items(), que separa keys y values de un diccionario.\n",
    "#    Si encuentra una key o un value únicos los añade al set seen_keys/values y los añade invertidos al diccionario inv_dict. Si encuentra una key o value repetido imprimirá un mensaje de error con la key/value repetido.\n",
    "#    Una ves recorrido e invertido el diccionarionos devuelve el resultado en inv_dict."
   ]
  },
  {
   "cell_type": "markdown",
   "metadata": {},
   "source": [
    "# **NIVEL2**"
   ]
  },
  {
   "cell_type": "markdown",
   "metadata": {},
   "source": [
    "#### *EX1*"
   ]
  },
  {
   "cell_type": "code",
   "execution_count": 14,
   "metadata": {},
   "outputs": [
    {
     "data": {
      "text/plain": [
       "[('v1', 'k1'), ('v1', 'k2'), ('v3', 'k3'), ('k4', 'k4')]"
      ]
     },
     "execution_count": 14,
     "metadata": {},
     "output_type": "execute_result"
    }
   ],
   "source": [
    "enquesta = {'k1': 'v1', 'k2': 'v1', 'k3': 'v3', 'k4': 'k4'}\n",
    "\n",
    "#1\n",
    "def dict_inv(d):\n",
    "    #2\n",
    "    dict_list =[]\n",
    "    #3\n",
    "    for key, value in d.items():\n",
    "        dict_list.append((value, key))\n",
    "    #4\n",
    "    return dict_list\n",
    "\n",
    "dict_inv(enquesta)\n",
    "\n",
    "#1 - Definimos función.\n",
    "#2 - Definimos una lista vacia.\n",
    "#3 - Iniciamos un bucle for donde recorremos keys y values del diccionario y añadimos el par (value, key) a la lista como tuplas.\n",
    "#4 - Aplicamos función a la enquesta de prueva i comprobamos que no se pierde ningun par key value tanto si key = value como si keyi = keyi+n o valuei = vaulei+n.\n"
   ]
  },
  {
   "cell_type": "markdown",
   "metadata": {},
   "source": [
    "#### *EX2*"
   ]
  },
  {
   "cell_type": "code",
   "execution_count": 44,
   "metadata": {},
   "outputs": [
    {
     "data": {
      "text/plain": [
       "(['1.3', '1e10', '2', 1, 1.4, 1, 2, '3', '3.4'],\n",
       " ['one', 'seven', '3-1/2', 'not-a-number'])"
      ]
     },
     "execution_count": 44,
     "metadata": {},
     "output_type": "execute_result"
    }
   ],
   "source": [
    "client_list = [ '1.3', 'one' , '1e10' , 'seven', '3-1/2', ('2',1,1.4,'not-a-number'), [1,2,'3','3.4']]\n",
    "\n",
    "#1\n",
    "def main(l):\n",
    "\n",
    "    #2\n",
    "    floats = []\n",
    "    others = []\n",
    "\n",
    "    #3\n",
    "    for i in l:\n",
    "        if isinstance(i, (list, tuple)):\n",
    "            for a in i:\n",
    "                try:\n",
    "                    float(a)\n",
    "                    floats.append(a)\n",
    "                except ValueError:\n",
    "                    others.append(a)\n",
    "        else:\n",
    "            try:\n",
    "                float(i)\n",
    "                floats.append(i)\n",
    "            except ValueError:\n",
    "                others.append(i)\n",
    "\n",
    "    return floats, others\n",
    "\n",
    "main(client_list)\n",
    "\n",
    "#1 - Definimos la funcion\n",
    "#2 - Creamos dos listas vacias donde guardaremos los valores float o no float(other)\n",
    "#3 - Iniciaremos un bucle for que recorrera la lista que se le assigne a la funcion main().\n",
    "#    Este bucle primero comporbará si el valor que se esta checkeando es una lista o tupla, si es así se recorrerá la lista/tupla y mediante un try se intentará transformar a floar cada uno de sus valores.\n",
    "#    Los que se puedan convertir a float se convertiran a float y se almacenaran en la lista floats, los que no se almacenaran en la lista other con el except.\n",
    "#    Si el valor checkeado no es una lista o tupla, se ejecutará directamente el try-except para almacenar al valor checkeado en la lista floats/other respectiavmente.\n",
    "#    Finalmente se devolveran ambas listas."
   ]
  },
  {
   "cell_type": "markdown",
   "metadata": {},
   "source": [
    "# **NIVEL3**"
   ]
  },
  {
   "cell_type": "markdown",
   "metadata": {},
   "source": [
    "#### *EX1*"
   ]
  },
  {
   "cell_type": "code",
   "execution_count": 9,
   "metadata": {},
   "outputs": [
    {
     "data": {
      "text/plain": [
       "{'a': {'a': 3,\n",
       "  'agua': 1,\n",
       "  'al': 2,\n",
       "  'alba': 4,\n",
       "  'alcobas': 1,\n",
       "  'alimenta': 1,\n",
       "  'alma': 1,\n",
       "  'amarga': 1,\n",
       "  'azucena': 1},\n",
       " 'b': {'baco': 1,\n",
       "  'banquete': 1,\n",
       "  'bebe': 1,\n",
       "  'blanca': 3,\n",
       "  'boca': 1,\n",
       "  'bosques': 1,\n",
       "  'buen': 1},\n",
       " 'c': {'cabañas': 1,\n",
       "  'carnes': 2,\n",
       "  'casta': 3,\n",
       "  'cerrada': 1,\n",
       "  'con': 4,\n",
       "  'conservas': 1,\n",
       "  'copas': 1,\n",
       "  'corola': 1,\n",
       "  'corriste': 1,\n",
       "  'cuando': 2,\n",
       "  'cubierto': 1,\n",
       "  'cuerpo': 1,\n",
       "  'cuáles': 1},\n",
       " 'd': {'de': 8, 'dejaste': 1, 'del': 1, 'diga': 1, 'dios': 2, 'duerme': 1},\n",
       " 'e': {'el': 4,\n",
       "  'ellas': 1,\n",
       "  'en': 4,\n",
       "  'engaño': 1,\n",
       "  'enredada': 1,\n",
       "  'entonces': 1,\n",
       "  'escarcha': 1,\n",
       "  'espumas': 1,\n",
       "  'esqueleto': 1,\n",
       "  'estrago': 1},\n",
       " 'f': {'festejando': 1, 'filtrado': 1, 'frutos': 1},\n",
       " 'h': {'habla': 1,\n",
       "  'hacia': 1,\n",
       "  'haya': 1,\n",
       "  'hayas': 1,\n",
       "  'hermana': 1,\n",
       "  'hombre': 1,\n",
       "  'hubiste': 1,\n",
       "  'huye': 1},\n",
       " 'i': {'intacto': 1},\n",
       " 'j': {'jardines': 1},\n",
       " 'l': {'la': 3,\n",
       "  'labios': 1,\n",
       "  'las': 7,\n",
       "  'lo': 2,\n",
       "  'los': 4,\n",
       "  'luna': 1,\n",
       "  'lévate': 1,\n",
       "  'límpiate': 1},\n",
       " 'm': {'mano': 1,\n",
       "  'manos': 1,\n",
       "  'margarita': 1,\n",
       "  'me': 10,\n",
       "  'mi': 1,\n",
       "  'mieles': 1,\n",
       "  'milagros': 1,\n",
       "  'mojada': 1,\n",
       "  'montaña': 1,\n",
       "  'morados': 1},\n",
       " 'n': {'negros': 1, 'ni': 2, 'no': 1, 'nácar': 1, 'nívea': 2},\n",
       " 'p': {'perdone': 2,\n",
       "  'perfume': 1,\n",
       "  'por': 2,\n",
       "  'pretendes': 3,\n",
       "  'preténdeme': 3,\n",
       "  'puesto': 1,\n",
       "  'pájaros': 1,\n",
       "  'pámpanos': 1},\n",
       " 'q': {'que': 6, 'quedó': 1, 'quieres': 6},\n",
       " 'r': {'rayo': 1, 'raíz': 1, 'renueva': 1, 'rocas': 1, 'rojo': 1},\n",
       " 's': {'salitre': 1, 'se': 2, 'sea': 1, 'sean': 1, 'sobre': 2, 'sé': 1},\n",
       " 't': {'te': 3,\n",
       "  'tejidos': 1,\n",
       "  'tenue': 1,\n",
       "  'tierra': 1,\n",
       "  'toca': 1,\n",
       "  'todas': 2,\n",
       "  'todavía': 1,\n",
       "  'tornadas': 1,\n",
       "  'tú': 8},\n",
       " 'u': {'un': 1, 'una': 1},\n",
       " 'v': {'vestido': 1, 'vete': 1, 'vive': 1},\n",
       " 'y': {'y': 5}}"
      ]
     },
     "execution_count": 9,
     "metadata": {},
     "output_type": "execute_result"
    }
   ],
   "source": [
    "#1\n",
    "import string\n",
    "\n",
    "#2\n",
    "def split(t):\n",
    "    taslist = t.split()\n",
    "    return taslist\n",
    "\n",
    "#3\n",
    "def trans(t):\n",
    "    transalte1 = str.maketrans('','', string.punctuation)\n",
    "    transalte2 = str.maketrans('','','¡')\n",
    "    transalte3 = str.maketrans('','','¿')\n",
    "\n",
    "    t1 = t.translate(transalte1)\n",
    "    t2 = t1.translate(transalte2)\n",
    "    t3 = t2.translate(transalte3)\n",
    "\n",
    "    return t3\n",
    "\n",
    "#4\n",
    "def counter():\n",
    "    #5\n",
    "    t = input('Please enter the text you want to count:').lower()\n",
    "\n",
    "    t = trans(t)\n",
    "    t = split(t)\n",
    "\n",
    "    orded_dict = {}\n",
    "\n",
    "    #6\n",
    "    for word in t:\n",
    "        fl = word[0]\n",
    "        if fl not in orded_dict:\n",
    "            orded_dict[fl] = {}\n",
    "        if word not in orded_dict[fl]:\n",
    "            orded_dict[fl][word] = 0\n",
    "        orded_dict[fl][word] +=1\n",
    "    \n",
    "    #7\n",
    "    for key in orded_dict:\n",
    "        orded_dict[key] = dict(sorted(orded_dict[key].items()))\n",
    "\n",
    "\n",
    "    orded_dict = dict(sorted(orded_dict.items()))\n",
    "\n",
    "    return orded_dict\n",
    "\n",
    "\n",
    "counter()\n",
    "\n",
    "#1 - Importamos string, que usaremos para reemplazar signos de puntuación.\n",
    "#2 - Definimos una función que nos separa un string mediante split() y nos lo almacena en una lista.\n",
    "#3 - Definimos una funcion para reemplazar los signos de puntuación mediante un mapeado str.maketrans. Usaremos string.punctuation y crearemos dos relaciones mas, una para ¡ y otra para ¿,\n",
    "#    ya que estas no estan en string.punctuation, al ser exclusivas de la lengua castellana.\n",
    "#4 - La funcion counter sera la principal.\n",
    "#5 - Pedimos al usuario que introduzca el texto a contar. A este texto le aplicamos las funciones anteriores para sacar signos de puntuación y transformarlo a lista. Cramos tambien un dicionario vacio donde guardaremos\n",
    "#    la solución.\n",
    "#6 - Iniciamos un bucle for que recorre la lista con las palabras de el texto almacenadas. Primero le decimos que si la primera letra de la palabra no esta en el diccionario cree una neva entrada donde la letra será una key\n",
    "#    y el value sera un diccionario vacio. Si la palabra que se esta checkeando no esta en este nuevo diccionario la añadira como key y se inicializará un contador a 0 como value. Después se le suma 1 al value.\n",
    "#    Si usamos este metodo en lugar de la función count() el algoritmo no recorre la lista de palabras para contar cuantas veces aparece una palabra, sencillamente suma 1 cada vez que se la encuentra, cosa que es mas\n",
    "#    eficiente que recorrer la lista.\n",
    "#7 - Una vez el diccionario esta lleno con un bucle for recorremos todas las keys del diccionario (que en este caso son letras del abecedario) y ordenamos sus values, que en este caso son a su vez diccionarios, de modo que\n",
    "#    utilizamos items() y la funcion sorted.\n",
    "#    Finalmente ordenamos las keys del diccionario principal otra vez con sorted y items() y devolvemos el diccionario ordenado orded_dict.\n"
   ]
  }
 ],
 "metadata": {
  "kernelspec": {
   "display_name": "Python 3",
   "language": "python",
   "name": "python3"
  },
  "language_info": {
   "codemirror_mode": {
    "name": "ipython",
    "version": 3
   },
   "file_extension": ".py",
   "mimetype": "text/x-python",
   "name": "python",
   "nbconvert_exporter": "python",
   "pygments_lexer": "ipython3",
   "version": "3.12.0"
  }
 },
 "nbformat": 4,
 "nbformat_minor": 2
}
