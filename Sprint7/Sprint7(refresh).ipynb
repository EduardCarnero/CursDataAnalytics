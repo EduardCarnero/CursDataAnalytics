{
 "cells": [
  {
   "cell_type": "markdown",
   "metadata": {},
   "source": [
    "NIVEL 1"
   ]
  },
  {
   "cell_type": "markdown",
   "metadata": {},
   "source": [
    "Ex1"
   ]
  },
  {
   "cell_type": "code",
   "execution_count": 8,
   "metadata": {},
   "outputs": [
    {
     "name": "stdout",
     "output_type": "stream",
     "text": [
      "Your BMI is 36.571334648257725 , you are obese.\n"
     ]
    }
   ],
   "source": [
    "#BMI Calculator\n",
    "\n",
    "w = float(input('Please intorduce your weight in kgs:'))\n",
    "h_cm = float(input('Thank you, please now introduce your height in cms:'))\n",
    "h_m = h_cm/100\n",
    "\n",
    "def BMI_calculate(a, b):\n",
    "\n",
    "    BMI = a/b**2\n",
    "\n",
    "    if BMI < 18.5:\n",
    "        print('Your BMI is', BMI,', you are underweight.')\n",
    "    elif BMI < 25:\n",
    "        print('Your BMI is', BMI,', you are healthy weight.')\n",
    "    elif BMI < 30:\n",
    "        print('Your BMI is', BMI,', you are overweight.')\n",
    "    else:\n",
    "        print('Your BMI is', BMI,', you are obese.')\n",
    "\n",
    "BMI_calculate(w, h)"
   ]
  },
  {
   "cell_type": "code",
   "execution_count": 22,
   "metadata": {},
   "outputs": [
    {
     "name": "stdout",
     "output_type": "stream",
     "text": [
      "Your BMI is 222.2222222222222 , and you are obese\n"
     ]
    }
   ],
   "source": [
    "#BMI Calculator\n",
    "\n",
    "def BMI_calculate(a, b):\n",
    "    return a/b**2\n",
    "\n",
    "def BMI_sort(z):\n",
    "    if z < 18.5:\n",
    "        return 'underweight'\n",
    "    elif z < 25:\n",
    "        return 'normal weight'\n",
    "    elif z < 30:\n",
    "        return 'overweight'\n",
    "    else:\n",
    "        return 'obese'\n",
    "    \n",
    "def main():\n",
    "    w = float(input('Please intorduce your weight in kgs:'))\n",
    "    h_cm = float(input('Thank you, please now introduce your height in cms:'))\n",
    "    h_m = h_cm/100\n",
    "    \n",
    "    bmi = BMI_calculate(w, h_m)\n",
    "    clas = BMI_sort(bmi)\n",
    "\n",
    "    print('Your BMI is',bmi,', and you are', clas)\n",
    "\n",
    "if __name__ == '__main__':\n",
    "    main()"
   ]
  },
  {
   "cell_type": "markdown",
   "metadata": {},
   "source": [
    "Ex2"
   ]
  },
  {
   "cell_type": "code",
   "execution_count": 28,
   "metadata": {},
   "outputs": [
    {
     "name": "stdout",
     "output_type": "stream",
     "text": [
      "Invalid unit, plese enter K or C\n"
     ]
    }
   ],
   "source": [
    "#Degrees converter (K and C)\n",
    "\n",
    "def converter_CK(a):\n",
    "    return a - 273.15\n",
    "\n",
    "def converter_KC(b):\n",
    "    return b + 273.15\n",
    "\n",
    "def main():\n",
    "    unit = input('Introduce the unit you want to convert to, K (for Kelvin) or C (for celsius):')\n",
    "    temp = float(input('Introduce the temperature you want to convert in Kelvin:'))\n",
    "\n",
    "    if unit == 'K':\n",
    "        conv_temp = converter_KC(temp)\n",
    "        new_unit = 'Kelvin'\n",
    "    elif unit == 'C':\n",
    "        conv_temp = converter_CK(temp)\n",
    "        new_unit = 'Celsius'\n",
    "    else:\n",
    "        print('Invalid unit, plese enter K or C')\n",
    "        return\n",
    "    \n",
    "    print('Your temperature is', conv_temp, new_unit)\n",
    "\n",
    "if __name__ == '__main__':\n",
    "    main()"
   ]
  },
  {
   "cell_type": "markdown",
   "metadata": {},
   "source": [
    "Ex3"
   ]
  },
  {
   "cell_type": "code",
   "execution_count": 40,
   "metadata": {},
   "outputs": [
    {
     "name": "stdout",
     "output_type": "stream",
     "text": [
      "{'hello': 3}\n"
     ]
    }
   ],
   "source": [
    "text = input('Please enter the text you want to count:')\n",
    "\n",
    "text_split = text.split()\n",
    "\n",
    "word_count = {}\n",
    "\n",
    "for word in text_split:\n",
    "    word_count[word] = text_split.count(word)\n",
    "\n",
    "print(word_count)"
   ]
  },
  {
   "cell_type": "code",
   "execution_count": 39,
   "metadata": {},
   "outputs": [
    {
     "name": "stdout",
     "output_type": "stream",
     "text": [
      "{'hello': 3}\n"
     ]
    }
   ],
   "source": [
    "def text_split(a):\n",
    "    return a.split()\n",
    "\n",
    "def word_counter(b, word_count):\n",
    "    for word in b:\n",
    "        word_count[word] = b.count(word)\n",
    "\n",
    "def main():\n",
    "    text = input('Please enter the text you want to count:')\n",
    "\n",
    "    word_count = {}\n",
    "\n",
    "    spl_txt = text_split(text)\n",
    "    word_counter(spl_txt, word_count)\n",
    "\n",
    "    print(word_count)\n",
    "\n",
    "if __name__ == '__main__':\n",
    "    main()"
   ]
  },
  {
   "cell_type": "markdown",
   "metadata": {},
   "source": [
    "Ex4"
   ]
  },
  {
   "cell_type": "code",
   "execution_count": 45,
   "metadata": {},
   "outputs": [
    {
     "name": "stdout",
     "output_type": "stream",
     "text": [
      "The following key: value pair is the same k4 k4\n",
      "{'v1': 'k1', 'v2': 'k2', 'v3': 'k3', 'k4': 'k4'}\n"
     ]
    }
   ],
   "source": [
    "enquesta = {'k1': 'v1', 'k2': 'v2', 'k3': 'v3', 'k4': 'k4', 'k4': 'k4'}\n",
    "\n",
    "def dict_swap(d):\n",
    "    swaped_dict = {value: key for key, value in d.items()}\n",
    "    return swaped_dict\n",
    "\n",
    "def main():\n",
    "\n",
    "    swaped_dict = dict_swap(enquesta)\n",
    "\n",
    "    for a, b in swaped_dict.items():\n",
    "        if a == b:\n",
    "            print('The following key: value pair is the same', a, b)\n",
    "\n",
    "    print(swaped_dict)\n",
    "\n",
    "if __name__ == '__main__':\n",
    "    main()"
   ]
  },
  {
   "cell_type": "markdown",
   "metadata": {},
   "source": [
    "NIVEL 2"
   ]
  },
  {
   "cell_type": "markdown",
   "metadata": {},
   "source": [
    "Ex1"
   ]
  },
  {
   "cell_type": "code",
   "execution_count": 53,
   "metadata": {},
   "outputs": [
    {
     "name": "stdout",
     "output_type": "stream",
     "text": [
      "[('v1', 'k1'), ('v2', 'k2'), ('v3', 'k3'), ('k4', 'k4')]\n"
     ]
    }
   ],
   "source": [
    "enquesta = {'k1': 'v1', 'k2': 'v2', 'k3': 'v3', 'k4': 'k4'}\n",
    "\n",
    "def dict_swap(d):\n",
    "    swaped_dict = {value: key for key, value in d.items()}\n",
    "    return swaped_dict\n",
    "\n",
    "def dict_as_list(a):\n",
    "    new_list = a.items()\n",
    "    return new_list\n",
    "\n",
    "swaped_dict = dict_swap(enquesta)\n",
    "new_list = list(dict_as_list(swaped_dict))\n",
    "\n",
    "print(new_list)"
   ]
  },
  {
   "cell_type": "code",
   "execution_count": 58,
   "metadata": {},
   "outputs": [
    {
     "name": "stdout",
     "output_type": "stream",
     "text": [
      "['v1', 'v2', 'v3', 'k4', 'k1', 'k2', 'k3', 'k4']\n"
     ]
    }
   ],
   "source": [
    "enquesta = {'k1': 'v1', 'k2': 'v2', 'k3': 'v3', 'k4': 'k4'}\n",
    "\n",
    "def dict_swap(d):\n",
    "    swaped_dict = {value: key for key, value in d.items()}\n",
    "    return swaped_dict\n",
    "\n",
    "def key_listing(a):\n",
    "    key_list = a.keys()\n",
    "    return list(key_list)\n",
    "\n",
    "def value_listing(a):\n",
    "    value_list = a.values()\n",
    "    return list(value_list)\n",
    "\n",
    "swaped_dict = dict_swap(enquesta)\n",
    "key_list = key_listing(swaped_dict)\n",
    "value_list = value_listing(swaped_dict)\n",
    "\n",
    "new_list = key_list + value_list\n",
    "\n",
    "print(new_list)"
   ]
  },
  {
   "cell_type": "markdown",
   "metadata": {},
   "source": [
    "Ex2"
   ]
  },
  {
   "cell_type": "code",
   "execution_count": 69,
   "metadata": {},
   "outputs": [
    {
     "name": "stdout",
     "output_type": "stream",
     "text": [
      "[]\n",
      "['1.3', 'one', '1e10', 'seven', '3-1/2', '2', 1, 1.4, 'not-a-number', 1, 2, '3', '3.4']\n"
     ]
    }
   ],
   "source": [
    "client_list = [ '1.3', 'one' , '1e10' , 'seven', '3-1/2', ('2',1,1.4,'not-a-number'), [1,2,'3','3.4']]\n",
    "\n",
    "def float_sorter(client_list):\n",
    "    \n",
    "    floats = []\n",
    "    others = []\n",
    "\n",
    "    for x in client_list:\n",
    "        if isinstance(x, (list, tuple)):\n",
    "            x_float, x_other = float_sorter(x)\n",
    "            floats.extend(x_float)\n",
    "            others.extend(x_other)\n",
    "        else:\n",
    "            try:\n",
    "                float_value = float(x)\n",
    "                floats.append(float_value)\n",
    "            except:\n",
    "                others.append(x)\n",
    "    return floats, others\n",
    "\n",
    "client_list_floats, client_list_others = float_sorter(client_list)\n",
    "\n",
    "print(client_list_floats)\n",
    "print(client_list_others)"
   ]
  },
  {
   "cell_type": "code",
   "execution_count": 73,
   "metadata": {},
   "outputs": [
    {
     "ename": "TypeError",
     "evalue": "'list' object is not callable",
     "output_type": "error",
     "traceback": [
      "\u001b[1;31m---------------------------------------------------------------------------\u001b[0m",
      "\u001b[1;31mTypeError\u001b[0m                                 Traceback (most recent call last)",
      "\u001b[1;32md:\\users\\ciberconnecta_07\\Downloads\\Sprint7(refresh).ipynb Cell 18\u001b[0m line \u001b[0;36m2\n\u001b[0;32m     <a href='vscode-notebook-cell:/d%3A/users/ciberconnecta_07/Downloads/Sprint7%28refresh%29.ipynb#X26sZmlsZQ%3D%3D?line=16'>17</a>\u001b[0m                 other\u001b[39m.\u001b[39mappend(x)\n\u001b[0;32m     <a href='vscode-notebook-cell:/d%3A/users/ciberconnecta_07/Downloads/Sprint7%28refresh%29.ipynb#X26sZmlsZQ%3D%3D?line=17'>18</a>\u001b[0m     \u001b[39mreturn\u001b[39;00m floats, other\n\u001b[1;32m---> <a href='vscode-notebook-cell:/d%3A/users/ciberconnecta_07/Downloads/Sprint7%28refresh%29.ipynb#X26sZmlsZQ%3D%3D?line=19'>20</a>\u001b[0m client_list_floats, client_list_other \u001b[39m=\u001b[39m float_other_sort(client_list)\n\u001b[0;32m     <a href='vscode-notebook-cell:/d%3A/users/ciberconnecta_07/Downloads/Sprint7%28refresh%29.ipynb#X26sZmlsZQ%3D%3D?line=21'>22</a>\u001b[0m \u001b[39mprint\u001b[39m(\u001b[39m'\u001b[39m\u001b[39mFloats:\u001b[39m\u001b[39m'\u001b[39m, client_list_floats)\n\u001b[0;32m     <a href='vscode-notebook-cell:/d%3A/users/ciberconnecta_07/Downloads/Sprint7%28refresh%29.ipynb#X26sZmlsZQ%3D%3D?line=22'>23</a>\u001b[0m \u001b[39mprint\u001b[39m(\u001b[39m'\u001b[39m\u001b[39mOther:\u001b[39m\u001b[39m'\u001b[39m, client_list_other)\n",
      "\u001b[1;32md:\\users\\ciberconnecta_07\\Downloads\\Sprint7(refresh).ipynb Cell 18\u001b[0m line \u001b[0;36m1\n\u001b[0;32m     <a href='vscode-notebook-cell:/d%3A/users/ciberconnecta_07/Downloads/Sprint7%28refresh%29.ipynb#X26sZmlsZQ%3D%3D?line=11'>12</a>\u001b[0m \u001b[39melse\u001b[39;00m:\n\u001b[0;32m     <a href='vscode-notebook-cell:/d%3A/users/ciberconnecta_07/Downloads/Sprint7%28refresh%29.ipynb#X26sZmlsZQ%3D%3D?line=12'>13</a>\u001b[0m     \u001b[39mtry\u001b[39;00m:\n\u001b[1;32m---> <a href='vscode-notebook-cell:/d%3A/users/ciberconnecta_07/Downloads/Sprint7%28refresh%29.ipynb#X26sZmlsZQ%3D%3D?line=13'>14</a>\u001b[0m         float_value \u001b[39m=\u001b[39m \u001b[39mfloat\u001b[39;49m(x)\n\u001b[0;32m     <a href='vscode-notebook-cell:/d%3A/users/ciberconnecta_07/Downloads/Sprint7%28refresh%29.ipynb#X26sZmlsZQ%3D%3D?line=14'>15</a>\u001b[0m         floats\u001b[39m.\u001b[39mappend(float_value)\n\u001b[0;32m     <a href='vscode-notebook-cell:/d%3A/users/ciberconnecta_07/Downloads/Sprint7%28refresh%29.ipynb#X26sZmlsZQ%3D%3D?line=15'>16</a>\u001b[0m     \u001b[39mexcept\u001b[39;00m \u001b[39mValueError\u001b[39;00m:\n",
      "\u001b[1;31mTypeError\u001b[0m: 'list' object is not callable"
     ]
    }
   ],
   "source": [
    "client_list = [ '1.3', 'one' , '1e10' , 'seven', '3-1/2', ('2',1,1.4,'not-a-number'), [1,2,'3','3.4']]\n",
    "\n",
    "def float_other_sort(d):\n",
    "    floats = []\n",
    "    other = []\n",
    "\n",
    "    for x in d:\n",
    "        if isinstance(x, (list, tuple)):\n",
    "            x_float, x_other = float_other_sort(x)\n",
    "            floats.extend(x_float)\n",
    "            other.extend(x_other)\n",
    "        else:\n",
    "            try:\n",
    "                float_value = float(x)\n",
    "                floats.append(float_value)\n",
    "            except ValueError:\n",
    "                other.append(x)\n",
    "    return floats, other\n",
    "\n",
    "client_list_floats, client_list_other = float_other_sort(client_list)\n",
    "\n",
    "print('Floats:', client_list_floats)\n",
    "print('Other:', client_list_other)"
   ]
  }
 ],
 "metadata": {
  "kernelspec": {
   "display_name": "Python 3",
   "language": "python",
   "name": "python3"
  },
  "language_info": {
   "codemirror_mode": {
    "name": "ipython",
    "version": 3
   },
   "file_extension": ".py",
   "mimetype": "text/x-python",
   "name": "python",
   "nbconvert_exporter": "python",
   "pygments_lexer": "ipython3",
   "version": "3.12.0"
  }
 },
 "nbformat": 4,
 "nbformat_minor": 2
}
